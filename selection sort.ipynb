{
 "cells": [
  {
   "cell_type": "code",
   "execution_count": null,
   "id": "38255185-b1b3-4a10-bb86-f9f83735c64c",
   "metadata": {},
   "outputs": [],
   "source": [
    "inputarray=[12,32,1,45,6,34,9,5,-34,35]\n",
    "print ('Input List is',inputarray,'length of input array is -',len(inputarray))\n",
    "\n",
    "\n",
    "n=len(inputarray)\n",
    "for i in range(0,n):\n",
    "    min = inputarray[i]\n",
    "    indexofmin=i\n",
    "    for unsortedlist in range(i+1,n):\n",
    "        if inputarray[unsortedlist]<min:\n",
    "            min=inputarray[unsortedlist] #1\n",
    "            indexofmin=unsortedlist #2\n",
    "    #swap\n",
    "    temp=inputarray[i] #12\n",
    "    inputarray[i]=inputarray[indexofmin]#1\n",
    "    inputarray[indexofmin]=temp #12\n",
    "    #end swap\n",
    "    print('iteration number-',i+1,inputarray)\n",
    "\n",
    "\n",
    "\n"
   ]
  }
 ],
 "metadata": {
  "kernelspec": {
   "display_name": "Python 3 (ipykernel)",
   "language": "python",
   "name": "python3"
  },
  "language_info": {
   "codemirror_mode": {
    "name": "ipython",
    "version": 3
   },
   "file_extension": ".py",
   "mimetype": "text/x-python",
   "name": "python",
   "nbconvert_exporter": "python",
   "pygments_lexer": "ipython3",
   "version": "3.10.11"
  }
 },
 "nbformat": 4,
 "nbformat_minor": 5
}
