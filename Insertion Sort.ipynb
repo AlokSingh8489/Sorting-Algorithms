{
 "cells": [
  {
   "cell_type": "code",
   "execution_count": null,
   "id": "109252ea-c576-4a65-864e-b4e6705a7417",
   "metadata": {},
   "outputs": [],
   "source": [
    "#technique is reduce and conquer, Just put one element in correct position of an already sorted array.Make correct place and insert. \n",
    "a=[4,43,36,2,27,3,21]\n",
    "print('input is-' ,a)\n",
    "n=len(a)\n",
    "for i in range(1,n):\n",
    "    temp= a[i]\n",
    "    indexofprei=i-1\n",
    "    while indexofprei>=0 and temp<a[indexofprei]:\n",
    "        print(f'shifted  {a[indexofprei]} forward' )\n",
    "        a[indexofprei+1]= a[indexofprei]\n",
    "        indexofprei-=1\n",
    "    a[indexofprei+1]=temp\n",
    "print(f'Final Outtput {a}')"
   ]
  },
  {
   "cell_type": "code",
   "execution_count": null,
   "id": "2db286b1-0d45-44cf-9c1e-dc30b3d75b6a",
   "metadata": {},
   "outputs": [],
   "source": [
    "def insertion_sort(arr):\n",
    "    \"\"\"\n",
    "    Args:\n",
    "     arr(list_int32)\n",
    "    Returns:\n",
    "     list_int32\n",
    "    \"\"\"\n",
    "    # Write your code here.\n",
    "    n=len(arr)\n",
    "    for i in range(1 , n):\n",
    "        temp=arr[i]\n",
    "        prei=i-1\n",
    "        while prei>=0 and arr[prei]>temp:\n",
    "            arr[prei+1]=arr[prei]\n",
    "            prei -= 1\n",
    "        arr[prei+1]=temp    \n",
    "        \n",
    "    return arr\n",
    "insertion_sort([4,43,36,2,27,3,21])"
   ]
  },
  {
   "cell_type": "code",
   "execution_count": null,
   "id": "6b9516c2-c955-4b62-b442-823cb8017c3a",
   "metadata": {},
   "outputs": [],
   "source": []
  }
 ],
 "metadata": {
  "kernelspec": {
   "display_name": "Python 3 (ipykernel)",
   "language": "python",
   "name": "python3"
  },
  "language_info": {
   "codemirror_mode": {
    "name": "ipython",
    "version": 3
   },
   "file_extension": ".py",
   "mimetype": "text/x-python",
   "name": "python",
   "nbconvert_exporter": "python",
   "pygments_lexer": "ipython3",
   "version": "3.10.11"
  }
 },
 "nbformat": 4,
 "nbformat_minor": 5
}
