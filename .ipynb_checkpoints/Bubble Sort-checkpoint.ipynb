{
 "cells": [
  {
   "cell_type": "code",
   "execution_count": null,
   "id": "5dcc6509-63d3-4960-8f8b-02c142007f60",
   "metadata": {},
   "outputs": [],
   "source": [
    "arr=[5,4,3,98,34,2,1,87,99]\n",
    "n=len(arr)\n",
    "print('input',arr) \n",
    "for i in range(0,n-1):\n",
    "    for unsortedarr in range(n-1,i,-1):\n",
    "        if arr[unsortedarr]<arr[unsortedarr-1]:\n",
    "            #swap arr[unsortedarr] with arr[unsortedarr-1]\n",
    "            temp=arr[unsortedarr]\n",
    "            arr[unsortedarr]=arr[unsortedarr-1]\n",
    "            arr[unsortedarr-1]=temp\n",
    "        print(f'{i} { arr}')\n",
    "print('final',arr)"
   ]
  },
  {
   "cell_type": "code",
   "execution_count": null,
   "id": "788c216c-6b35-4f0f-abd6-1d2b113c298e",
   "metadata": {},
   "outputs": [],
   "source": [
    "\n",
    "def bubble_sort(arr):\n",
    "    \"\"\"\n",
    "    Args:\n",
    "     arr(list_int32)\n",
    "    Returns:\n",
    "     list_int32\n",
    "    \"\"\"\n",
    "    # Write your code here.\n",
    "    n=len(arr)\n",
    "    for i in range(0,n-1):\n",
    "        for unsotrted in range(n-1,i,-1):\n",
    "            if arr[unsotrted]<arr[unsotrted-1]:\n",
    "                #swap arr[unsotrted]< with arr[unsotrted-1]\n",
    "                temp=arr[unsotrted]\n",
    "                arr[unsotrted]=arr[unsotrted-1]\n",
    "                arr[unsotrted-1]=temp\n",
    "        #print(arr)\n",
    "        \n",
    "    return arr\n",
    "\n",
    "bubble_sort([5,4,3,98,34,2,1,87,99])"
   ]
  },
  {
   "cell_type": "code",
   "execution_count": null,
   "id": "2ffe875b-1130-490d-ab4f-fbefe504bfb4",
   "metadata": {},
   "outputs": [],
   "source": []
  }
 ],
 "metadata": {
  "kernelspec": {
   "display_name": "Python 3 (ipykernel)",
   "language": "python",
   "name": "python3"
  },
  "language_info": {
   "codemirror_mode": {
    "name": "ipython",
    "version": 3
   },
   "file_extension": ".py",
   "mimetype": "text/x-python",
   "name": "python",
   "nbconvert_exporter": "python",
   "pygments_lexer": "ipython3",
   "version": "3.10.11"
  }
 },
 "nbformat": 4,
 "nbformat_minor": 5
}
