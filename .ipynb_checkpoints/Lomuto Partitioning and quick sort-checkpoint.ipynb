{
 "cells": [
  {
   "cell_type": "code",
   "execution_count": null,
   "id": "731a2b58-dbe1-47f8-b8ad-46848f10b65a",
   "metadata": {},
   "outputs": [],
   "source": [
    "#inline partitioning arrat gets divieded in 2 halfs along a pivot\n",
    "#where evey element in 1st half is smaller than every element in right half, the pivot element is randomly selected\n",
    "import random\n",
    "a=[46,2,23,1,45,32,567,12,35,54,432]\n",
    "start =small=0\n",
    "pivot = random.randint(0,len(a)-1)\n",
    "print ('pivot is',a[pivot])\n",
    "#swap a[start with Pivot]\n",
    "a[start],a[pivot]=(a[pivot],a[start])\n",
    "for bigger in range(start+1 ,len(a)):\n",
    "   \n",
    "    if a[bigger]<a[start]:\n",
    "            small += 1\n",
    "    \n",
    "        #swap start with a[small]\n",
    "            a[small], a[bigger] = (a[bigger],a[small])\n",
    "    \n",
    "#swap a[small+1] with a[start]    \n",
    "\n",
    "a[small] , a[start]  =(a[start] ,a[small])\n",
    "print(a)"
   ]
  },
  {
   "cell_type": "code",
   "execution_count": null,
   "id": "24d76df7-cf3e-45c9-8d6c-54dc3d932cea",
   "metadata": {},
   "outputs": [],
   "source": [
    "\n",
    "def quick_sort(arr):\n",
    "    \"\"\"\n",
    "    Args:\n",
    "     arr(list_int32)\n",
    "    Returns:\n",
    "     list_int32\n",
    "    \"\"\"\n",
    "    # Write your code here.\n",
    "    import random\n",
    "    if len(arr)<2:\n",
    "        return arr\n",
    "    curr_pos=0\n",
    "    start=0\n",
    "    pivot=random.randint(1,len(arr)-1)\n",
    "    arr[start],arr[pivot]=(arr[pivot],arr[start])\n",
    "    for i in range(0,len(arr)):\n",
    "        if arr[i]<arr[start]:\n",
    "            curr_pos+=1\n",
    "            temp=arr[i]\n",
    "            arr[i]=arr[curr_pos]\n",
    "            arr[curr_pos]=temp\n",
    "    temp=arr[start]\n",
    "    arr[start]=arr[curr_pos]\n",
    "    arr[curr_pos]=temp\n",
    "    l=quick_sort(arr[0:curr_pos])\n",
    "    r=quick_sort(arr[curr_pos+1:len(arr)])\n",
    "    arr=l+[arr[curr_pos]]+r\n",
    "    return arr\n",
    "arr= [8, 97, 46, 98, 76, 987, 768]\n",
    "print(f'unsorted array is {arr}   and sorted array is {quick_sort(arr)}')"
   ]
  },
  {
   "cell_type": "code",
   "execution_count": null,
   "id": "9f7a2b11-4280-43bd-8285-e45f79bc1044",
   "metadata": {},
   "outputs": [],
   "source": [
    "#generate same random number over and over\n",
    "import random\n",
    "arr= [8, 9, 46, 98, 76, 987, 768]\n",
    "random.seed(12)\n",
    "print(random.randrange(0,len(arr)))"
   ]
  },
  {
   "cell_type": "code",
   "execution_count": null,
   "id": "09fdb153-8b3b-4f59-bf9e-b5264849af56",
   "metadata": {},
   "outputs": [],
   "source": []
  },
  {
   "cell_type": "code",
   "execution_count": null,
   "id": "1797df71-00dc-4205-9938-ef3baea55117",
   "metadata": {},
   "outputs": [],
   "source": []
  }
 ],
 "metadata": {
  "kernelspec": {
   "display_name": "Python 3 (ipykernel)",
   "language": "python",
   "name": "python3"
  },
  "language_info": {
   "codemirror_mode": {
    "name": "ipython",
    "version": 3
   },
   "file_extension": ".py",
   "mimetype": "text/x-python",
   "name": "python",
   "nbconvert_exporter": "python",
   "pygments_lexer": "ipython3",
   "version": "3.10.11"
  }
 },
 "nbformat": 4,
 "nbformat_minor": 5
}
