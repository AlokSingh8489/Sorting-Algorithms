{
 "cells": [
  {
   "cell_type": "code",
   "execution_count": null,
   "id": "38255185-b1b3-4a10-bb86-f9f83735c64c",
   "metadata": {},
   "outputs": [],
   "source": [
    "#selection sort with Min first left to right\n",
    "inputarray=[12,32,1,45,6,34,9,5,-34,35]\n",
    "print ('Input List is',inputarray,'length of input array is -',len(inputarray))\n",
    "\n",
    "\n",
    "n=len(inputarray)\n",
    "for i in range(0,n-1):  #no need to loop till last element as array gets sorted\n",
    "    min = inputarray[i]\n",
    "    indexofmin=i\n",
    "    for unsortedlist in range(i+1,n):\n",
    "        if inputarray[unsortedlist]<min:\n",
    "            min=inputarray[unsortedlist] #1\n",
    "            indexofmin=unsortedlist #2\n",
    "    #swap\n",
    "    temp=inputarray[i] #12\n",
    "    inputarray[i]=inputarray[indexofmin]#1\n",
    "    inputarray[indexofmin]=temp #12\n",
    "    #end swap\n",
    "    print('iteration number-',i+1,inputarray)\n",
    "print('Final sorted array-',inputarray)\n",
    "\n",
    "\n",
    "\n",
    "\n"
   ]
  },
  {
   "cell_type": "code",
   "execution_count": null,
   "id": "920d2789-d024-4aa7-9f30-fc8ea3b1af33",
   "metadata": {},
   "outputs": [],
   "source": [
    "#selection sort with Max first right to left\n",
    "inputarray=[12,32,1,45,6,34,9,5,-34,35]\n",
    "print ('Input List is',inputarray,'length of input array is -',len(inputarray))\n",
    "\n",
    "\n",
    "n=len(inputarray)\n",
    "\n",
    "for i in range(0, n-1):\n",
    "    max=inputarray[n-1-i]\n",
    "    indexofmax = n-1-i\n",
    "    for unsortedlist in range(0,n-i-1):\n",
    "        if inputarray[unsortedlist]>max:\n",
    "            max=inputarray[unsortedlist]\n",
    "            indexofmax=unsortedlist\n",
    "    #swap new max with n-1-ith element\n",
    "    temp= inputarray[n-1-i]\n",
    "    inputarray[n-1-i]=inputarray[indexofmax]\n",
    "    inputarray[indexofmax]=temp\n",
    "    #end swap\n",
    "    print('iteration number-',i+1,inputarray)\n",
    "print('Final sorted array-',inputarray)\n",
    "\n",
    "\n",
    "\n",
    "\n",
    "\n"
   ]
  },
  {
   "cell_type": "code",
   "execution_count": null,
   "id": "63732c1b-49e1-423d-84cc-cf54d6c0996c",
   "metadata": {},
   "outputs": [],
   "source": [
    "#function of selection sort\n",
    "def selection_sort(arr):\n",
    "    \"\"\"\n",
    "    Args:\n",
    "     arr(list_int32)\n",
    "    Returns:\n",
    "     list_int32\n",
    "    \"\"\"\n",
    "     \n",
    "    n=len(arr)\n",
    "\n",
    "    for i in range(0,n-1):\n",
    "        min = arr[i]\n",
    "        indexofmin=i\n",
    "        for unsortedlist in range(i,n):\n",
    "            if arr[unsortedlist]<min:\n",
    "                min=arr[unsortedlist]\n",
    "                indexofmin=unsortedlist\n",
    "                #swap\n",
    "                temp=arr[i]\n",
    "                arr[i]=arr[indexofmin]\n",
    "                arr[indexofmin]=temp\n",
    "                #end swap\n",
    "            #print('iteration number-',i+1,arr)\n",
    "   \n",
    "    return arr\n"
   ]
  },
  {
   "cell_type": "code",
   "execution_count": null,
   "id": "c32c938c-2650-41d0-a346-0b12bb42c5bb",
   "metadata": {},
   "outputs": [],
   "source": []
  }
 ],
 "metadata": {
  "kernelspec": {
   "display_name": "Python 3 (ipykernel)",
   "language": "python",
   "name": "python3"
  },
  "language_info": {
   "codemirror_mode": {
    "name": "ipython",
    "version": 3
   },
   "file_extension": ".py",
   "mimetype": "text/x-python",
   "name": "python",
   "nbconvert_exporter": "python",
   "pygments_lexer": "ipython3",
   "version": "3.10.11"
  }
 },
 "nbformat": 4,
 "nbformat_minor": 5
}
