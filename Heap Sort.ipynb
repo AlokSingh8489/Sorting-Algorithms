{
 "cells": [
  {
   "cell_type": "code",
   "execution_count": 2,
   "id": "3392a9f1-f939-4902-8a69-e4b904f49636",
   "metadata": {},
   "outputs": [
    {
     "name": "stdout",
     "output_type": "stream",
     "text": [
      "unsorted a- [1, 12, 9, 5, 6, 10]\n",
      "sorted a- [1, 5, 6, 9, 10, 12]\n"
     ]
    }
   ],
   "source": [
    "import heapq\n",
    "a = [1, 12, 9, 5, 6, 10]\n",
    "print ('unsorted a-',a)    \n",
    "#build a minheap on input array, heapq and priority queue are same things\n",
    "heapq.heapify(a) #put each element of array in the prioroty queue\n",
    "result=[]\n",
    "while len(a)>0:\n",
    "    result.append(heapq.heappop(a)) \n",
    "print ('sorted a-',result)"
   ]
  },
  {
   "cell_type": "code",
   "execution_count": 8,
   "id": "1927e842-1a72-434e-a893-d324d5cbf9e5",
   "metadata": {},
   "outputs": [
    {
     "name": "stdout",
     "output_type": "stream",
     "text": [
      "unsortd a- [1, 12, 9, 5, 6, 10]\n",
      "sorted a- [1, 5, 6, 9, 10, 12]\n"
     ]
    }
   ],
   "source": [
    "def heap_sort(a):\n",
    "    import heapq\n",
    "    #build a minheap on input array, heapq and priority queue are same things\n",
    "    heapq.heapify(a) \n",
    "    result=[]\n",
    "    while len(a)>0:\n",
    "        result.append(heapq.heappop(a))\n",
    "    return result\n",
    "a = [1, 12, 9, 5, 6, 10]\n",
    "print('unsortd a-',a)\n",
    "print('sorted a-',heap_sort(a))"
   ]
  },
  {
   "cell_type": "code",
   "execution_count": 4,
   "id": "2613e9dd-d74f-4b96-8340-20a58c792647",
   "metadata": {},
   "outputs": [
    {
     "name": "stdout",
     "output_type": "stream",
     "text": [
      "Sorted array is\n",
      "1 5 6 9 10 12 "
     ]
    }
   ],
   "source": [
    "# Heap Sort in python\n",
    "\n",
    "\n",
    "def heapify(arr, n, i):\n",
    "      # Find largest among root and children\n",
    "      largest = i\n",
    "      l = 2 * i + 1\n",
    "      r = 2 * i + 2\n",
    "  \n",
    "      if l < n and arr[i] < arr[l]:\n",
    "          largest = l\n",
    "  \n",
    "      if r < n and arr[largest] < arr[r]:\n",
    "          largest = r\n",
    "  \n",
    "      # If root is not largest, swap with largest and continue heapifying\n",
    "      if largest != i:\n",
    "          arr[i], arr[largest] = arr[largest], arr[i]\n",
    "          heapify(arr, n, largest)\n",
    "  \n",
    "  \n",
    "def heapSort(arr):\n",
    "      n = len(arr)\n",
    "  \n",
    "      # Build max heap\n",
    "      for i in range(n//2, -1, -1):\n",
    "          heapify(arr, n, i)\n",
    "  \n",
    "      for i in range(n-1, 0, -1):\n",
    "          # Swap\n",
    "          arr[i], arr[0] = arr[0], arr[i]\n",
    "  \n",
    "          # Heapify root element\n",
    "          heapify(arr, i, 0)\n",
    "  \n",
    "  \n",
    "arr = [1, 12, 9, 5, 6, 10]\n",
    "heapSort(arr)\n",
    "n = len(arr)\n",
    "print(\"Sorted array is\")\n",
    "for i in range(n):\n",
    "    print(\"%d \" % arr[i], end='')"
   ]
  },
  {
   "cell_type": "code",
   "execution_count": 10,
   "id": "5689461b-9748-491f-a7ce-95d3ce38eb18",
   "metadata": {},
   "outputs": [
    {
     "name": "stdout",
     "output_type": "stream",
     "text": [
      "[-64, 3, -24, 87, 54, 12, 7]\n",
      "7\n",
      "6\n",
      "5\n",
      "4\n",
      "3\n",
      "2\n",
      "1\n",
      "[-64, -24, 3, 7, 12, 54, 87]\n"
     ]
    }
   ],
   "source": [
    "import heapq\n",
    "a=[12,54,7,87,3,-24,-64]\n",
    "\n",
    "heapq.heapify(a)\n",
    "print(a)\n",
    "\n",
    "b=[]\n",
    "for i in range(0,len(a)):\n",
    "    print (len(a))\n",
    "    b.append(heapq.heappop(a))\n",
    "print(b)\n",
    "\n",
    "\n",
    "\n"
   ]
  }
 ],
 "metadata": {
  "kernelspec": {
   "display_name": "Python 3 (ipykernel)",
   "language": "python",
   "name": "python3"
  },
  "language_info": {
   "codemirror_mode": {
    "name": "ipython",
    "version": 3
   },
   "file_extension": ".py",
   "mimetype": "text/x-python",
   "name": "python",
   "nbconvert_exporter": "python",
   "pygments_lexer": "ipython3",
   "version": "3.10.11"
  }
 },
 "nbformat": 4,
 "nbformat_minor": 5
}
